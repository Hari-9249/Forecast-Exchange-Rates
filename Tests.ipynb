{
 "cells": [
  {
   "cell_type": "code",
   "execution_count": 1,
   "id": "2c7058b2",
   "metadata": {},
   "outputs": [],
   "source": [
    "from statsmodels.tsa.stattools import adfuller\n",
    "from fbprophet.diagnostics import cross_validation\n",
    "from fbprophet.diagnostics import performance_metrics\n"
   ]
  },
  {
   "cell_type": "code",
   "execution_count": 2,
   "id": "c470c1ef",
   "metadata": {},
   "outputs": [],
   "source": [
    "#Ho: Data is non stationary\n",
    "#H1: Data is stationary\n",
    "\n",
    "def adfuller_test(Rate):\n",
    "    result=adfuller(Rate)\n",
    "    labels = ['ADF Test Statistic', 'p-value', '#Lags Used', 'Number of Observations used']\n",
    "    for value,label in zip(result,labels):\n",
    "        print(label+' : '+str(value))\n",
    "    if result[1] <= 0.05:\n",
    "        print(\"Reject the null hypothesis(Ho). Data is Stationary\")\n",
    "    else:\n",
    "        print(\"Accept the null hypothesis(Ho). Data is non-stationary\")"
   ]
  },
  {
   "cell_type": "code",
   "execution_count": 3,
   "id": "9aa57a4c",
   "metadata": {},
   "outputs": [],
   "source": [
    "def fb_crossval(data_cv):\n",
    "    df_cv = cross_validation(data_cv, initial = '3650 days', period = '365 days', horizon = '30 days')\n",
    "    df_cv.head()\n",
    "    df_p = performance_metrics(df_cv)\n",
    "    df_p.head()\n",
    "    return df_cv"
   ]
  },
  {
   "cell_type": "code",
   "execution_count": null,
   "id": "b614a1ac",
   "metadata": {},
   "outputs": [],
   "source": []
  }
 ],
 "metadata": {
  "hide_input": false,
  "kernelspec": {
   "display_name": "Python 3 (ipykernel)",
   "language": "python",
   "name": "python3"
  },
  "language_info": {
   "codemirror_mode": {
    "name": "ipython",
    "version": 3
   },
   "file_extension": ".py",
   "mimetype": "text/x-python",
   "name": "python",
   "nbconvert_exporter": "python",
   "pygments_lexer": "ipython3",
   "version": "3.8.8"
  },
  "varInspector": {
   "cols": {
    "lenName": 16,
    "lenType": 16,
    "lenVar": 40
   },
   "kernels_config": {
    "python": {
     "delete_cmd_postfix": "",
     "delete_cmd_prefix": "del ",
     "library": "var_list.py",
     "varRefreshCmd": "print(var_dic_list())"
    },
    "r": {
     "delete_cmd_postfix": ") ",
     "delete_cmd_prefix": "rm(",
     "library": "var_list.r",
     "varRefreshCmd": "cat(var_dic_list()) "
    }
   },
   "types_to_exclude": [
    "module",
    "function",
    "builtin_function_or_method",
    "instance",
    "_Feature"
   ],
   "window_display": false
  }
 },
 "nbformat": 4,
 "nbformat_minor": 5
}
