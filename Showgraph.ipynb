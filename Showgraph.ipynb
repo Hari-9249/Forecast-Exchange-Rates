{
 "cells": [
  {
   "cell_type": "code",
   "execution_count": 1,
   "id": "853d352d",
   "metadata": {},
   "outputs": [],
   "source": [
    "import pandas as pd\n",
    "import numpy as np\n",
    "import matplotlib.pyplot as plt\n",
    "import seaborn as sns\n",
    "from datetime import datetime\n",
    "from pandas.plotting import lag_plot\n",
    "import statsmodels.graphics.tsaplots as tsa_plots\n",
    "from statsmodels.tsa.seasonal import seasonal_decompose"
   ]
  },
  {
   "cell_type": "code",
   "execution_count": 2,
   "id": "287b50ec",
   "metadata": {},
   "outputs": [],
   "source": [
    "def Line_Plot(data):\n",
    "    \n",
    "    # set figure size\n",
    "    plt.figure(figsize = (10, 6))\n",
    "  \n",
    "    # plot a simple time series plot using seaborn.lineplot()\n",
    "    sns.lineplot(x = 'Date', y = 'Rate', data = data, label = 'USD-INR') \n",
    "    \n",
    "    plt.xlabel('Year', fontsize=16)\n",
    "    plt.ylabel('Rate', fontsize=16)\n",
    "    for year in range(2010, 2023):\n",
    "        plt.axvline(pd.to_datetime(str(year)+'-01-01'), color='k', linestyle='--', alpha=0.2)"
   ]
  },
  {
   "cell_type": "code",
   "execution_count": 3,
   "id": "654f23af",
   "metadata": {},
   "outputs": [],
   "source": [
    "def Sub_Lineplot(drange):\n",
    "    \n",
    "    plt.figure(figsize = (25,2))\n",
    "    plt.xlabel('Year', fontsize=16)\n",
    "    plt.ylabel('Rate', fontsize=16)\n",
    "    sns.lineplot(data = drange[\"Rate\"])"
   ]
  },
  {
   "cell_type": "code",
   "execution_count": 4,
   "id": "b3d6dfa3",
   "metadata": {},
   "outputs": [],
   "source": [
    "def Box_Plot1(data):\n",
    "    \n",
    "    data.boxplot(column=['Rate'])"
   ]
  },
  {
   "cell_type": "code",
   "execution_count": 5,
   "id": "dddb4367",
   "metadata": {},
   "outputs": [],
   "source": [
    "def Box_Plot2(data):\n",
    "    \n",
    "    plt.figure(figsize = (30,10))\n",
    "    plt.xlabel('Year', fontsize=16)\n",
    "    plt.ylabel('Rate', fontsize=16)\n",
    "    sns.set(style='whitegrid')\n",
    "    sns.boxplot(x=\"Year\", y=\"Rate\",data=data)"
   ]
  },
  {
   "cell_type": "code",
   "execution_count": 6,
   "id": "fe85fa7b",
   "metadata": {},
   "outputs": [],
   "source": [
    "def Plot_Series(data):\n",
    "   \n",
    "    plt.figure(figsize=(30,10))\n",
    "    plt.plot(data)\n",
    "    plt.xlabel('Year', fontsize=16)\n",
    "    plt.ylabel('Rate', fontsize=16)\n",
    "    \n",
    "    # setting customized ticklabels for x axis\n",
    "    pos = [ '1973-01-02', '1978-01-01', '1983-01-01', '1988-01-01', '1993-01-01', '1998-01-01', '2003-01-01', '2008-01-01','2013-01-01', '2018-01-01', '2021-01-01']\n",
    "    lab = [ '1973', '1978', '1983', '1988', '1993', '1998', '2003', '2008', '2013', '2018', '2021']\n",
    "\n",
    "    plt.xticks(pos, lab)\n",
    "    \n",
    "    for year in range(1973, 2023):\n",
    "        plt.axvline(pd.to_datetime(str(year)+'-01-01'), color='k', linestyle='--', alpha=0.2)"
   ]
  },
  {
   "cell_type": "code",
   "execution_count": 7,
   "id": "6fb6922f",
   "metadata": {},
   "outputs": [],
   "source": [
    "def Lag_Plot(data):\n",
    "    \n",
    "    plt.figure(figsize=(30,10))\n",
    "    lag_plot(data, c='blue')"
   ]
  },
  {
   "cell_type": "code",
   "execution_count": 8,
   "id": "a2afddf4",
   "metadata": {},
   "outputs": [],
   "source": [
    "def Dist_Plot(data):\n",
    "   \n",
    "    sns.distplot(data,bins=8,kde=True,hist_kws={'edgecolor':'black','linewidth':2, 'linestyle':'--'})"
   ]
  },
  {
   "cell_type": "code",
   "execution_count": 9,
   "id": "107610a2",
   "metadata": {
    "tags": []
   },
   "outputs": [],
   "source": [
    "def ACF_PACF_Plots(data):\n",
    "   \n",
    "    tsa_plots.plot_acf(data,lags=50)\n",
    "    tsa_plots.plot_pacf(data,lags=50)\n",
    "    plt.show()"
   ]
  },
  {
   "cell_type": "code",
   "execution_count": 10,
   "id": "14320e0a",
   "metadata": {},
   "outputs": [],
   "source": [
    "def Decompose(data):\n",
    "    \n",
    "    decompose_ts_add = seasonal_decompose(data,period=60)\n",
    "    decompose_ts_add.plot()"
   ]
  },
  {
   "cell_type": "code",
   "execution_count": 11,
   "id": "0013e5b6",
   "metadata": {},
   "outputs": [],
   "source": [
    "def FirstDiff_Plot(data,start_date,end_date):\n",
    "    data_ARMA = data\n",
    "    plt.figure(figsize=(10,6))\n",
    "    plt.plot(data_ARMA)\n",
    "    plt.title('First Difference of Exchange Rate', fontsize=20)\n",
    "    plt.ylabel('Rate', fontsize=16)\n",
    "    for year in range(start_date.year,end_date.year):\n",
    "        plt.axvline(pd.to_datetime(str(year)+'-01-01'), color='k', linestyle='--', alpha=0.2)\n",
    "    plt.axhline(data_ARMA.mean(), color='r', alpha=0.2, linestyle='--')"
   ]
  },
  {
   "cell_type": "code",
   "execution_count": 12,
   "id": "67202ac4",
   "metadata": {},
   "outputs": [],
   "source": [
    "def NeuralNet_Plot(y_test,y_pred):\n",
    "    \n",
    "    plt.figure(figsize=(12,8))\n",
    "    plt.title('USD-INR Prediction')\n",
    "    plt.plot(y_test , label = 'Actual')\n",
    "    plt.plot(y_pred , label = 'Predicted')\n",
    "    plt.xlabel('Observation')\n",
    "    plt.ylabel('Rate')\n",
    "    plt.legend()"
   ]
  },
  {
   "cell_type": "code",
   "execution_count": null,
   "id": "932c1e99",
   "metadata": {},
   "outputs": [],
   "source": []
  }
 ],
 "metadata": {
  "hide_input": false,
  "kernelspec": {
   "display_name": "Python 3 (ipykernel)",
   "language": "python",
   "name": "python3"
  },
  "language_info": {
   "codemirror_mode": {
    "name": "ipython",
    "version": 3
   },
   "file_extension": ".py",
   "mimetype": "text/x-python",
   "name": "python",
   "nbconvert_exporter": "python",
   "pygments_lexer": "ipython3",
   "version": "3.8.8"
  },
  "varInspector": {
   "cols": {
    "lenName": 16,
    "lenType": 16,
    "lenVar": 40
   },
   "kernels_config": {
    "python": {
     "delete_cmd_postfix": "",
     "delete_cmd_prefix": "del ",
     "library": "var_list.py",
     "varRefreshCmd": "print(var_dic_list())"
    },
    "r": {
     "delete_cmd_postfix": ") ",
     "delete_cmd_prefix": "rm(",
     "library": "var_list.r",
     "varRefreshCmd": "cat(var_dic_list()) "
    }
   },
   "types_to_exclude": [
    "module",
    "function",
    "builtin_function_or_method",
    "instance",
    "_Feature"
   ],
   "window_display": false
  }
 },
 "nbformat": 4,
 "nbformat_minor": 5
}
